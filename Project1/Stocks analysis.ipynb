{
 "cells": [
  {
   "cell_type": "markdown",
   "metadata": {
    "id": "fxA6D1jTw91R"
   },
   "source": [
    "\n",
    "# <Center> Data Analytics and Visualisation </Center>\n",
    "# <Center> Name : Aditya Tomar </Center>\n",
    "# <Center> Student Id : 202051012 </Center>"
   ]
  },
  {
   "cell_type": "code",
   "execution_count": 1,
   "metadata": {
    "executionInfo": {
     "elapsed": 846,
     "status": "ok",
     "timestamp": 1645806801980,
     "user": {
      "displayName": "201951103 NIKHIL RANA",
      "photoUrl": "https://lh3.googleusercontent.com/a/default-user=s64",
      "userId": "08751619034967911265"
     },
     "user_tz": -330
    },
    "id": "gGnVtQEW2JNY"
   },
   "outputs": [],
   "source": [
    "import pandas as pd\n",
    "import seaborn as sns\n",
    "import math\n",
    "import matplotlib.pyplot as plt"
   ]
  },
  {
   "cell_type": "code",
   "execution_count": null,
   "metadata": {
    "executionInfo": {
     "elapsed": 1918,
     "status": "ok",
     "timestamp": 1645806902339,
     "user": {
      "displayName": "201951103 NIKHIL RANA",
      "photoUrl": "https://lh3.googleusercontent.com/a/default-user=s64",
      "userId": "08751619034967911265"
     },
     "user_tz": -330
    },
    "id": "xROGl5xt5r__"
   },
   "outputs": [],
   "source": [
    "data = pd.read_csv(\"/content/drive/MyDrive/data analytics/lab6/Stocks_pe.csv\")"
   ]
  },
  {
   "cell_type": "code",
   "execution_count": 3,
   "metadata": {
    "colab": {
     "base_uri": "https://localhost:8080/",
     "height": 537
    },
    "executionInfo": {
     "elapsed": 415,
     "status": "ok",
     "timestamp": 1645806904121,
     "user": {
      "displayName": "201951103 NIKHIL RANA",
      "photoUrl": "https://lh3.googleusercontent.com/a/default-user=s64",
      "userId": "08751619034967911265"
     },
     "user_tz": -330
    },
    "id": "lmO9R70m53pq",
    "outputId": "21dd397b-ea23-42ca-f05f-a670fb653641"
   },
   "outputs": [
    {
     "data": {
      "text/html": [
       "\n",
       "  <div id=\"df-60a9dc18-0f72-44bf-835a-ccc1a08be107\">\n",
       "    <div class=\"colab-df-container\">\n",
       "      <div>\n",
       "<style scoped>\n",
       "    .dataframe tbody tr th:only-of-type {\n",
       "        vertical-align: middle;\n",
       "    }\n",
       "\n",
       "    .dataframe tbody tr th {\n",
       "        vertical-align: top;\n",
       "    }\n",
       "\n",
       "    .dataframe thead th {\n",
       "        text-align: right;\n",
       "    }\n",
       "</style>\n",
       "<table border=\"1\" class=\"dataframe\">\n",
       "  <thead>\n",
       "    <tr style=\"text-align: right;\">\n",
       "      <th></th>\n",
       "      <th>Company Name</th>\n",
       "      <th>Index_type</th>\n",
       "      <th>Sector</th>\n",
       "      <th>Industry</th>\n",
       "      <th>Symbol</th>\n",
       "      <th>P/E</th>\n",
       "      <th>MarketCap</th>\n",
       "    </tr>\n",
       "  </thead>\n",
       "  <tbody>\n",
       "    <tr>\n",
       "      <th>0</th>\n",
       "      <td>Reliance Industries Limited</td>\n",
       "      <td>Large</td>\n",
       "      <td>Energy</td>\n",
       "      <td>Oil &amp; Gas Refining &amp; Marketing</td>\n",
       "      <td>RELIANCE</td>\n",
       "      <td>27.617010</td>\n",
       "      <td>1.631686e+13</td>\n",
       "    </tr>\n",
       "    <tr>\n",
       "      <th>1</th>\n",
       "      <td>Tata Consultancy Services Limited</td>\n",
       "      <td>Large</td>\n",
       "      <td>Technology</td>\n",
       "      <td>Information Technology Services</td>\n",
       "      <td>TCS</td>\n",
       "      <td>37.613270</td>\n",
       "      <td>1.415626e+13</td>\n",
       "    </tr>\n",
       "    <tr>\n",
       "      <th>2</th>\n",
       "      <td>HDFC Bank Limited</td>\n",
       "      <td>Large</td>\n",
       "      <td>Financial Services</td>\n",
       "      <td>Banks—Regional</td>\n",
       "      <td>HDFCBANK</td>\n",
       "      <td>23.326649</td>\n",
       "      <td>8.380209e+12</td>\n",
       "    </tr>\n",
       "    <tr>\n",
       "      <th>3</th>\n",
       "      <td>Infosys Limited</td>\n",
       "      <td>Large</td>\n",
       "      <td>Technology</td>\n",
       "      <td>Information Technology Services</td>\n",
       "      <td>INFY</td>\n",
       "      <td>33.900620</td>\n",
       "      <td>7.280080e+12</td>\n",
       "    </tr>\n",
       "    <tr>\n",
       "      <th>4</th>\n",
       "      <td>Hindustan Unilever Limited</td>\n",
       "      <td>Large</td>\n",
       "      <td>Consumer Defensive</td>\n",
       "      <td>Household &amp; Personal Products</td>\n",
       "      <td>HINDUNILVR</td>\n",
       "      <td>61.147617</td>\n",
       "      <td>5.356948e+12</td>\n",
       "    </tr>\n",
       "    <tr>\n",
       "      <th>...</th>\n",
       "      <td>...</td>\n",
       "      <td>...</td>\n",
       "      <td>...</td>\n",
       "      <td>...</td>\n",
       "      <td>...</td>\n",
       "      <td>...</td>\n",
       "      <td>...</td>\n",
       "    </tr>\n",
       "    <tr>\n",
       "      <th>1915</th>\n",
       "      <td>CKP Leisure Limited</td>\n",
       "      <td>None</td>\n",
       "      <td>Don't Know</td>\n",
       "      <td>Don't Know</td>\n",
       "      <td>CKPLEISURE</td>\n",
       "      <td>0.000000</td>\n",
       "      <td>0.000000e+00</td>\n",
       "    </tr>\n",
       "    <tr>\n",
       "      <th>1916</th>\n",
       "      <td>CKP Products Limited</td>\n",
       "      <td>None</td>\n",
       "      <td>Don't Know</td>\n",
       "      <td>Don't Know</td>\n",
       "      <td>CKPPRODUCT</td>\n",
       "      <td>0.000000</td>\n",
       "      <td>0.000000e+00</td>\n",
       "    </tr>\n",
       "    <tr>\n",
       "      <th>1917</th>\n",
       "      <td>Fourth Dimension Solutions Limited</td>\n",
       "      <td>None</td>\n",
       "      <td>Don't Know</td>\n",
       "      <td>Don't Know</td>\n",
       "      <td>FOURTHDIM</td>\n",
       "      <td>0.000000</td>\n",
       "      <td>0.000000e+00</td>\n",
       "    </tr>\n",
       "    <tr>\n",
       "      <th>1918</th>\n",
       "      <td>Artedz Fabs Limited</td>\n",
       "      <td>None</td>\n",
       "      <td>Don't Know</td>\n",
       "      <td>Don't Know</td>\n",
       "      <td>ARTEDZ</td>\n",
       "      <td>0.000000</td>\n",
       "      <td>0.000000e+00</td>\n",
       "    </tr>\n",
       "    <tr>\n",
       "      <th>1919</th>\n",
       "      <td>Bansal Multiflex Limited</td>\n",
       "      <td>None</td>\n",
       "      <td>Don't Know</td>\n",
       "      <td>Don't Know</td>\n",
       "      <td>BANSAL</td>\n",
       "      <td>0.000000</td>\n",
       "      <td>0.000000e+00</td>\n",
       "    </tr>\n",
       "  </tbody>\n",
       "</table>\n",
       "<p>1902 rows × 7 columns</p>\n",
       "</div>\n",
       "      <button class=\"colab-df-convert\" onclick=\"convertToInteractive('df-60a9dc18-0f72-44bf-835a-ccc1a08be107')\"\n",
       "              title=\"Convert this dataframe to an interactive table.\"\n",
       "              style=\"display:none;\">\n",
       "        \n",
       "  <svg xmlns=\"http://www.w3.org/2000/svg\" height=\"24px\"viewBox=\"0 0 24 24\"\n",
       "       width=\"24px\">\n",
       "    <path d=\"M0 0h24v24H0V0z\" fill=\"none\"/>\n",
       "    <path d=\"M18.56 5.44l.94 2.06.94-2.06 2.06-.94-2.06-.94-.94-2.06-.94 2.06-2.06.94zm-11 1L8.5 8.5l.94-2.06 2.06-.94-2.06-.94L8.5 2.5l-.94 2.06-2.06.94zm10 10l.94 2.06.94-2.06 2.06-.94-2.06-.94-.94-2.06-.94 2.06-2.06.94z\"/><path d=\"M17.41 7.96l-1.37-1.37c-.4-.4-.92-.59-1.43-.59-.52 0-1.04.2-1.43.59L10.3 9.45l-7.72 7.72c-.78.78-.78 2.05 0 2.83L4 21.41c.39.39.9.59 1.41.59.51 0 1.02-.2 1.41-.59l7.78-7.78 2.81-2.81c.8-.78.8-2.07 0-2.86zM5.41 20L4 18.59l7.72-7.72 1.47 1.35L5.41 20z\"/>\n",
       "  </svg>\n",
       "      </button>\n",
       "      \n",
       "  <style>\n",
       "    .colab-df-container {\n",
       "      display:flex;\n",
       "      flex-wrap:wrap;\n",
       "      gap: 12px;\n",
       "    }\n",
       "\n",
       "    .colab-df-convert {\n",
       "      background-color: #E8F0FE;\n",
       "      border: none;\n",
       "      border-radius: 50%;\n",
       "      cursor: pointer;\n",
       "      display: none;\n",
       "      fill: #1967D2;\n",
       "      height: 32px;\n",
       "      padding: 0 0 0 0;\n",
       "      width: 32px;\n",
       "    }\n",
       "\n",
       "    .colab-df-convert:hover {\n",
       "      background-color: #E2EBFA;\n",
       "      box-shadow: 0px 1px 2px rgba(60, 64, 67, 0.3), 0px 1px 3px 1px rgba(60, 64, 67, 0.15);\n",
       "      fill: #174EA6;\n",
       "    }\n",
       "\n",
       "    [theme=dark] .colab-df-convert {\n",
       "      background-color: #3B4455;\n",
       "      fill: #D2E3FC;\n",
       "    }\n",
       "\n",
       "    [theme=dark] .colab-df-convert:hover {\n",
       "      background-color: #434B5C;\n",
       "      box-shadow: 0px 1px 3px 1px rgba(0, 0, 0, 0.15);\n",
       "      filter: drop-shadow(0px 1px 2px rgba(0, 0, 0, 0.3));\n",
       "      fill: #FFFFFF;\n",
       "    }\n",
       "  </style>\n",
       "\n",
       "      <script>\n",
       "        const buttonEl =\n",
       "          document.querySelector('#df-60a9dc18-0f72-44bf-835a-ccc1a08be107 button.colab-df-convert');\n",
       "        buttonEl.style.display =\n",
       "          google.colab.kernel.accessAllowed ? 'block' : 'none';\n",
       "\n",
       "        async function convertToInteractive(key) {\n",
       "          const element = document.querySelector('#df-60a9dc18-0f72-44bf-835a-ccc1a08be107');\n",
       "          const dataTable =\n",
       "            await google.colab.kernel.invokeFunction('convertToInteractive',\n",
       "                                                     [key], {});\n",
       "          if (!dataTable) return;\n",
       "\n",
       "          const docLinkHtml = 'Like what you see? Visit the ' +\n",
       "            '<a target=\"_blank\" href=https://colab.research.google.com/notebooks/data_table.ipynb>data table notebook</a>'\n",
       "            + ' to learn more about interactive tables.';\n",
       "          element.innerHTML = '';\n",
       "          dataTable['output_type'] = 'display_data';\n",
       "          await google.colab.output.renderOutput(dataTable, element);\n",
       "          const docLink = document.createElement('div');\n",
       "          docLink.innerHTML = docLinkHtml;\n",
       "          element.appendChild(docLink);\n",
       "        }\n",
       "      </script>\n",
       "    </div>\n",
       "  </div>\n",
       "  "
      ],
      "text/plain": [
       "                            Company Name Index_type  ...        P/E     MarketCap\n",
       "0            Reliance Industries Limited      Large  ...  27.617010  1.631686e+13\n",
       "1      Tata Consultancy Services Limited      Large  ...  37.613270  1.415626e+13\n",
       "2                      HDFC Bank Limited      Large  ...  23.326649  8.380209e+12\n",
       "3                        Infosys Limited      Large  ...  33.900620  7.280080e+12\n",
       "4             Hindustan Unilever Limited      Large  ...  61.147617  5.356948e+12\n",
       "...                                  ...        ...  ...        ...           ...\n",
       "1915                 CKP Leisure Limited       None  ...   0.000000  0.000000e+00\n",
       "1916                CKP Products Limited       None  ...   0.000000  0.000000e+00\n",
       "1917  Fourth Dimension Solutions Limited       None  ...   0.000000  0.000000e+00\n",
       "1918                 Artedz Fabs Limited       None  ...   0.000000  0.000000e+00\n",
       "1919            Bansal Multiflex Limited       None  ...   0.000000  0.000000e+00\n",
       "\n",
       "[1902 rows x 7 columns]"
      ]
     },
     "execution_count": 3,
     "metadata": {},
     "output_type": "execute_result"
    }
   ],
   "source": [
    "data = data.dropna()\n",
    "data"
   ]
  },
  {
   "cell_type": "code",
   "execution_count": 4,
   "metadata": {
    "colab": {
     "base_uri": "https://localhost:8080/",
     "height": 520
    },
    "executionInfo": {
     "elapsed": 12,
     "status": "ok",
     "timestamp": 1645806906165,
     "user": {
      "displayName": "201951103 NIKHIL RANA",
      "photoUrl": "https://lh3.googleusercontent.com/a/default-user=s64",
      "userId": "08751619034967911265"
     },
     "user_tz": -330
    },
    "id": "Y2qws9Ax5_T0",
    "outputId": "f1b6acf2-c65b-44d0-8ab3-856a04aa16c3"
   },
   "outputs": [
    {
     "data": {
      "text/html": [
       "\n",
       "  <div id=\"df-539dd2fa-16e2-4695-b323-6c80f0a6ab8b\">\n",
       "    <div class=\"colab-df-container\">\n",
       "      <div>\n",
       "<style scoped>\n",
       "    .dataframe tbody tr th:only-of-type {\n",
       "        vertical-align: middle;\n",
       "    }\n",
       "\n",
       "    .dataframe tbody tr th {\n",
       "        vertical-align: top;\n",
       "    }\n",
       "\n",
       "    .dataframe thead th {\n",
       "        text-align: right;\n",
       "    }\n",
       "</style>\n",
       "<table border=\"1\" class=\"dataframe\">\n",
       "  <thead>\n",
       "    <tr style=\"text-align: right;\">\n",
       "      <th></th>\n",
       "      <th>Company Name</th>\n",
       "      <th>Index_type</th>\n",
       "      <th>Sector</th>\n",
       "      <th>Industry</th>\n",
       "      <th>Symbol</th>\n",
       "      <th>P/E</th>\n",
       "      <th>MarketCap</th>\n",
       "    </tr>\n",
       "  </thead>\n",
       "  <tbody>\n",
       "    <tr>\n",
       "      <th>0</th>\n",
       "      <td>Reliance Industries Limited</td>\n",
       "      <td>Large</td>\n",
       "      <td>Energy</td>\n",
       "      <td>Oil &amp; Gas Refining &amp; Marketing</td>\n",
       "      <td>RELIANCE</td>\n",
       "      <td>27.617010</td>\n",
       "      <td>1.631686e+13</td>\n",
       "    </tr>\n",
       "    <tr>\n",
       "      <th>1</th>\n",
       "      <td>Tata Consultancy Services Limited</td>\n",
       "      <td>Large</td>\n",
       "      <td>Technology</td>\n",
       "      <td>Information Technology Services</td>\n",
       "      <td>TCS</td>\n",
       "      <td>37.613270</td>\n",
       "      <td>1.415626e+13</td>\n",
       "    </tr>\n",
       "    <tr>\n",
       "      <th>2</th>\n",
       "      <td>HDFC Bank Limited</td>\n",
       "      <td>Large</td>\n",
       "      <td>Financial Services</td>\n",
       "      <td>Banks—Regional</td>\n",
       "      <td>HDFCBANK</td>\n",
       "      <td>23.326649</td>\n",
       "      <td>8.380209e+12</td>\n",
       "    </tr>\n",
       "    <tr>\n",
       "      <th>3</th>\n",
       "      <td>Infosys Limited</td>\n",
       "      <td>Large</td>\n",
       "      <td>Technology</td>\n",
       "      <td>Information Technology Services</td>\n",
       "      <td>INFY</td>\n",
       "      <td>33.900620</td>\n",
       "      <td>7.280080e+12</td>\n",
       "    </tr>\n",
       "    <tr>\n",
       "      <th>4</th>\n",
       "      <td>Hindustan Unilever Limited</td>\n",
       "      <td>Large</td>\n",
       "      <td>Consumer Defensive</td>\n",
       "      <td>Household &amp; Personal Products</td>\n",
       "      <td>HINDUNILVR</td>\n",
       "      <td>61.147617</td>\n",
       "      <td>5.356948e+12</td>\n",
       "    </tr>\n",
       "    <tr>\n",
       "      <th>...</th>\n",
       "      <td>...</td>\n",
       "      <td>...</td>\n",
       "      <td>...</td>\n",
       "      <td>...</td>\n",
       "      <td>...</td>\n",
       "      <td>...</td>\n",
       "      <td>...</td>\n",
       "    </tr>\n",
       "    <tr>\n",
       "      <th>1856</th>\n",
       "      <td>Nakoda Limited</td>\n",
       "      <td>None</td>\n",
       "      <td>Consumer Cyclical</td>\n",
       "      <td>Textile Manufacturing</td>\n",
       "      <td>NAKODA</td>\n",
       "      <td>0.021617</td>\n",
       "      <td>1.500000e+07</td>\n",
       "    </tr>\n",
       "    <tr>\n",
       "      <th>1862</th>\n",
       "      <td>PBA Infrastructure Limited</td>\n",
       "      <td>None</td>\n",
       "      <td>Industrials</td>\n",
       "      <td>Engineering &amp; Construction</td>\n",
       "      <td>PBAINFRA</td>\n",
       "      <td>7.011893</td>\n",
       "      <td>1.925843e+08</td>\n",
       "    </tr>\n",
       "    <tr>\n",
       "      <th>1872</th>\n",
       "      <td>Quintegra Solutions Limited</td>\n",
       "      <td>None</td>\n",
       "      <td>Technology</td>\n",
       "      <td>Information Technology Services</td>\n",
       "      <td>QUINTEGRA</td>\n",
       "      <td>35.576923</td>\n",
       "      <td>4.960553e+07</td>\n",
       "    </tr>\n",
       "    <tr>\n",
       "      <th>1882</th>\n",
       "      <td>Sharon Bio-Medicine Limited</td>\n",
       "      <td>None</td>\n",
       "      <td>Healthcare</td>\n",
       "      <td>Drug Manufacturers—Specialty &amp; Generic</td>\n",
       "      <td>SHARONBIO</td>\n",
       "      <td>1.028999</td>\n",
       "      <td>3.817836e+07</td>\n",
       "    </tr>\n",
       "    <tr>\n",
       "      <th>1897</th>\n",
       "      <td>Talwalkars Healthclubs Limited</td>\n",
       "      <td>None</td>\n",
       "      <td>Consumer Cyclical</td>\n",
       "      <td>Leisure</td>\n",
       "      <td>TALWGYM</td>\n",
       "      <td>0.135747</td>\n",
       "      <td>3.255514e+07</td>\n",
       "    </tr>\n",
       "  </tbody>\n",
       "</table>\n",
       "<p>1238 rows × 7 columns</p>\n",
       "</div>\n",
       "      <button class=\"colab-df-convert\" onclick=\"convertToInteractive('df-539dd2fa-16e2-4695-b323-6c80f0a6ab8b')\"\n",
       "              title=\"Convert this dataframe to an interactive table.\"\n",
       "              style=\"display:none;\">\n",
       "        \n",
       "  <svg xmlns=\"http://www.w3.org/2000/svg\" height=\"24px\"viewBox=\"0 0 24 24\"\n",
       "       width=\"24px\">\n",
       "    <path d=\"M0 0h24v24H0V0z\" fill=\"none\"/>\n",
       "    <path d=\"M18.56 5.44l.94 2.06.94-2.06 2.06-.94-2.06-.94-.94-2.06-.94 2.06-2.06.94zm-11 1L8.5 8.5l.94-2.06 2.06-.94-2.06-.94L8.5 2.5l-.94 2.06-2.06.94zm10 10l.94 2.06.94-2.06 2.06-.94-2.06-.94-.94-2.06-.94 2.06-2.06.94z\"/><path d=\"M17.41 7.96l-1.37-1.37c-.4-.4-.92-.59-1.43-.59-.52 0-1.04.2-1.43.59L10.3 9.45l-7.72 7.72c-.78.78-.78 2.05 0 2.83L4 21.41c.39.39.9.59 1.41.59.51 0 1.02-.2 1.41-.59l7.78-7.78 2.81-2.81c.8-.78.8-2.07 0-2.86zM5.41 20L4 18.59l7.72-7.72 1.47 1.35L5.41 20z\"/>\n",
       "  </svg>\n",
       "      </button>\n",
       "      \n",
       "  <style>\n",
       "    .colab-df-container {\n",
       "      display:flex;\n",
       "      flex-wrap:wrap;\n",
       "      gap: 12px;\n",
       "    }\n",
       "\n",
       "    .colab-df-convert {\n",
       "      background-color: #E8F0FE;\n",
       "      border: none;\n",
       "      border-radius: 50%;\n",
       "      cursor: pointer;\n",
       "      display: none;\n",
       "      fill: #1967D2;\n",
       "      height: 32px;\n",
       "      padding: 0 0 0 0;\n",
       "      width: 32px;\n",
       "    }\n",
       "\n",
       "    .colab-df-convert:hover {\n",
       "      background-color: #E2EBFA;\n",
       "      box-shadow: 0px 1px 2px rgba(60, 64, 67, 0.3), 0px 1px 3px 1px rgba(60, 64, 67, 0.15);\n",
       "      fill: #174EA6;\n",
       "    }\n",
       "\n",
       "    [theme=dark] .colab-df-convert {\n",
       "      background-color: #3B4455;\n",
       "      fill: #D2E3FC;\n",
       "    }\n",
       "\n",
       "    [theme=dark] .colab-df-convert:hover {\n",
       "      background-color: #434B5C;\n",
       "      box-shadow: 0px 1px 3px 1px rgba(0, 0, 0, 0.15);\n",
       "      filter: drop-shadow(0px 1px 2px rgba(0, 0, 0, 0.3));\n",
       "      fill: #FFFFFF;\n",
       "    }\n",
       "  </style>\n",
       "\n",
       "      <script>\n",
       "        const buttonEl =\n",
       "          document.querySelector('#df-539dd2fa-16e2-4695-b323-6c80f0a6ab8b button.colab-df-convert');\n",
       "        buttonEl.style.display =\n",
       "          google.colab.kernel.accessAllowed ? 'block' : 'none';\n",
       "\n",
       "        async function convertToInteractive(key) {\n",
       "          const element = document.querySelector('#df-539dd2fa-16e2-4695-b323-6c80f0a6ab8b');\n",
       "          const dataTable =\n",
       "            await google.colab.kernel.invokeFunction('convertToInteractive',\n",
       "                                                     [key], {});\n",
       "          if (!dataTable) return;\n",
       "\n",
       "          const docLinkHtml = 'Like what you see? Visit the ' +\n",
       "            '<a target=\"_blank\" href=https://colab.research.google.com/notebooks/data_table.ipynb>data table notebook</a>'\n",
       "            + ' to learn more about interactive tables.';\n",
       "          element.innerHTML = '';\n",
       "          dataTable['output_type'] = 'display_data';\n",
       "          await google.colab.output.renderOutput(dataTable, element);\n",
       "          const docLink = document.createElement('div');\n",
       "          docLink.innerHTML = docLinkHtml;\n",
       "          element.appendChild(docLink);\n",
       "        }\n",
       "      </script>\n",
       "    </div>\n",
       "  </div>\n",
       "  "
      ],
      "text/plain": [
       "                           Company Name Index_type  ...        P/E     MarketCap\n",
       "0           Reliance Industries Limited      Large  ...  27.617010  1.631686e+13\n",
       "1     Tata Consultancy Services Limited      Large  ...  37.613270  1.415626e+13\n",
       "2                     HDFC Bank Limited      Large  ...  23.326649  8.380209e+12\n",
       "3                       Infosys Limited      Large  ...  33.900620  7.280080e+12\n",
       "4            Hindustan Unilever Limited      Large  ...  61.147617  5.356948e+12\n",
       "...                                 ...        ...  ...        ...           ...\n",
       "1856                     Nakoda Limited       None  ...   0.021617  1.500000e+07\n",
       "1862         PBA Infrastructure Limited       None  ...   7.011893  1.925843e+08\n",
       "1872        Quintegra Solutions Limited       None  ...  35.576923  4.960553e+07\n",
       "1882        Sharon Bio-Medicine Limited       None  ...   1.028999  3.817836e+07\n",
       "1897     Talwalkars Healthclubs Limited       None  ...   0.135747  3.255514e+07\n",
       "\n",
       "[1238 rows x 7 columns]"
      ]
     },
     "execution_count": 4,
     "metadata": {},
     "output_type": "execute_result"
    }
   ],
   "source": [
    "data = data.loc[(data['P/E'] != 0) & (data['MarketCap'] !=0)]\n",
    "data"
   ]
  },
  {
   "cell_type": "code",
   "execution_count": 5,
   "metadata": {
    "colab": {
     "base_uri": "https://localhost:8080/"
    },
    "executionInfo": {
     "elapsed": 389,
     "status": "ok",
     "timestamp": 1645806908011,
     "user": {
      "displayName": "201951103 NIKHIL RANA",
      "photoUrl": "https://lh3.googleusercontent.com/a/default-user=s64",
      "userId": "08751619034967911265"
     },
     "user_tz": -330
    },
    "id": "p8BeSGJIDfWl",
    "outputId": "c62f5a6c-dcf8-485b-fd8b-10c72fe235d1"
   },
   "outputs": [
    {
     "name": "stdout",
     "output_type": "stream",
     "text": [
      "mean : 50.95912372328677\n",
      "median : 20.721981\n"
     ]
    }
   ],
   "source": [
    "mean = data['P/E'].mean()\n",
    "median = data['P/E'].median()\n",
    "print(\"mean :\",mean)\n",
    "print(\"median :\",median)"
   ]
  },
  {
   "cell_type": "code",
   "execution_count": 6,
   "metadata": {
    "colab": {
     "base_uri": "https://localhost:8080/",
     "height": 296
    },
    "executionInfo": {
     "elapsed": 1791,
     "status": "ok",
     "timestamp": 1645806911395,
     "user": {
      "displayName": "201951103 NIKHIL RANA",
      "photoUrl": "https://lh3.googleusercontent.com/a/default-user=s64",
      "userId": "08751619034967911265"
     },
     "user_tz": -330
    },
    "id": "4z_c1vTGEA_F",
    "outputId": "a51d67b6-6253-4e13-f096-548906e33c73"
   },
   "outputs": [
    {
     "data": {
      "text/plain": [
       "<matplotlib.axes._subplots.AxesSubplot at 0x7fc442736a50>"
      ]
     },
     "execution_count": 6,
     "metadata": {},
     "output_type": "execute_result"
    },
    {
     "data": {
      "image/png": "[encoded data removed]",
      "text/plain": [
       "<Figure size 432x288 with 1 Axes>"
      ]
     },
     "metadata": {
      "needs_background": "light"
     },
     "output_type": "display_data"
    }
   ],
   "source": [
    "sns.histplot(data=data,x='P/E',kde=True)"
   ]
  },
  {
   "cell_type": "code",
   "execution_count": 7,
   "metadata": {
    "colab": {
     "base_uri": "https://localhost:8080/",
     "height": 269
    },
    "executionInfo": {
     "elapsed": 447,
     "status": "ok",
     "timestamp": 1645806915462,
     "user": {
      "displayName": "201951103 NIKHIL RANA",
      "photoUrl": "https://lh3.googleusercontent.com/a/default-user=s64",
      "userId": "08751619034967911265"
     },
     "user_tz": -330
    },
    "id": "gCdvo6CJEgtD",
    "outputId": "67cd584c-1bd1-4cbd-a34e-12617cae5ffe"
   },
   "outputs": [
    {
     "data": {
      "text/plain": [
       "<matplotlib.axes._subplots.AxesSubplot at 0x7fc43ff85ad0>"
      ]
     },
     "execution_count": 7,
     "metadata": {},
     "output_type": "execute_result"
    },
    {
     "data": {
      "image/png": "[encoded data removed]",
      "text/plain": [
       "<Figure size 432x288 with 1 Axes>"
      ]
     },
     "metadata": {
      "needs_background": "light"
     },
     "output_type": "display_data"
    }
   ],
   "source": [
    "sns.boxplot(y=data[\"P/E\"])"
   ]
  },
  {
   "cell_type": "code",
   "execution_count": 8,
   "metadata": {
    "colab": {
     "base_uri": "https://localhost:8080/",
     "height": 520
    },
    "executionInfo": {
     "elapsed": 440,
     "status": "ok",
     "timestamp": 1645806917865,
     "user": {
      "displayName": "201951103 NIKHIL RANA",
      "photoUrl": "https://lh3.googleusercontent.com/a/default-user=s64",
      "userId": "08751619034967911265"
     },
     "user_tz": -330
    },
    "id": "uSJ0XVdrJt1i",
    "outputId": "097d0266-7aba-4531-c44b-69907dfe77f9"
   },
   "outputs": [
    {
     "data": {
      "text/html": [
       "\n",
       "  <div id=\"df-fed2320d-7787-4c9f-8d6e-533e5f56548e\">\n",
       "    <div class=\"colab-df-container\">\n",
       "      <div>\n",
       "<style scoped>\n",
       "    .dataframe tbody tr th:only-of-type {\n",
       "        vertical-align: middle;\n",
       "    }\n",
       "\n",
       "    .dataframe tbody tr th {\n",
       "        vertical-align: top;\n",
       "    }\n",
       "\n",
       "    .dataframe thead th {\n",
       "        text-align: right;\n",
       "    }\n",
       "</style>\n",
       "<table border=\"1\" class=\"dataframe\">\n",
       "  <thead>\n",
       "    <tr style=\"text-align: right;\">\n",
       "      <th></th>\n",
       "      <th>Company Name</th>\n",
       "      <th>Index_type</th>\n",
       "      <th>Sector</th>\n",
       "      <th>Industry</th>\n",
       "      <th>Symbol</th>\n",
       "      <th>P/E</th>\n",
       "      <th>MarketCap</th>\n",
       "    </tr>\n",
       "  </thead>\n",
       "  <tbody>\n",
       "    <tr>\n",
       "      <th>0</th>\n",
       "      <td>Reliance Industries Limited</td>\n",
       "      <td>Large</td>\n",
       "      <td>Energy</td>\n",
       "      <td>Oil &amp; Gas Refining &amp; Marketing</td>\n",
       "      <td>RELIANCE</td>\n",
       "      <td>27.617010</td>\n",
       "      <td>1.631686e+13</td>\n",
       "    </tr>\n",
       "    <tr>\n",
       "      <th>1</th>\n",
       "      <td>Tata Consultancy Services Limited</td>\n",
       "      <td>Large</td>\n",
       "      <td>Technology</td>\n",
       "      <td>Information Technology Services</td>\n",
       "      <td>TCS</td>\n",
       "      <td>37.613270</td>\n",
       "      <td>1.415626e+13</td>\n",
       "    </tr>\n",
       "    <tr>\n",
       "      <th>2</th>\n",
       "      <td>HDFC Bank Limited</td>\n",
       "      <td>Large</td>\n",
       "      <td>Financial Services</td>\n",
       "      <td>Banks—Regional</td>\n",
       "      <td>HDFCBANK</td>\n",
       "      <td>23.326649</td>\n",
       "      <td>8.380209e+12</td>\n",
       "    </tr>\n",
       "    <tr>\n",
       "      <th>3</th>\n",
       "      <td>Infosys Limited</td>\n",
       "      <td>Large</td>\n",
       "      <td>Technology</td>\n",
       "      <td>Information Technology Services</td>\n",
       "      <td>INFY</td>\n",
       "      <td>33.900620</td>\n",
       "      <td>7.280080e+12</td>\n",
       "    </tr>\n",
       "    <tr>\n",
       "      <th>4</th>\n",
       "      <td>Hindustan Unilever Limited</td>\n",
       "      <td>Large</td>\n",
       "      <td>Consumer Defensive</td>\n",
       "      <td>Household &amp; Personal Products</td>\n",
       "      <td>HINDUNILVR</td>\n",
       "      <td>61.147617</td>\n",
       "      <td>5.356948e+12</td>\n",
       "    </tr>\n",
       "    <tr>\n",
       "      <th>...</th>\n",
       "      <td>...</td>\n",
       "      <td>...</td>\n",
       "      <td>...</td>\n",
       "      <td>...</td>\n",
       "      <td>...</td>\n",
       "      <td>...</td>\n",
       "      <td>...</td>\n",
       "    </tr>\n",
       "    <tr>\n",
       "      <th>1856</th>\n",
       "      <td>Nakoda Limited</td>\n",
       "      <td>None</td>\n",
       "      <td>Consumer Cyclical</td>\n",
       "      <td>Textile Manufacturing</td>\n",
       "      <td>NAKODA</td>\n",
       "      <td>0.021617</td>\n",
       "      <td>1.500000e+07</td>\n",
       "    </tr>\n",
       "    <tr>\n",
       "      <th>1862</th>\n",
       "      <td>PBA Infrastructure Limited</td>\n",
       "      <td>None</td>\n",
       "      <td>Industrials</td>\n",
       "      <td>Engineering &amp; Construction</td>\n",
       "      <td>PBAINFRA</td>\n",
       "      <td>7.011893</td>\n",
       "      <td>1.925843e+08</td>\n",
       "    </tr>\n",
       "    <tr>\n",
       "      <th>1872</th>\n",
       "      <td>Quintegra Solutions Limited</td>\n",
       "      <td>None</td>\n",
       "      <td>Technology</td>\n",
       "      <td>Information Technology Services</td>\n",
       "      <td>QUINTEGRA</td>\n",
       "      <td>35.576923</td>\n",
       "      <td>4.960553e+07</td>\n",
       "    </tr>\n",
       "    <tr>\n",
       "      <th>1882</th>\n",
       "      <td>Sharon Bio-Medicine Limited</td>\n",
       "      <td>None</td>\n",
       "      <td>Healthcare</td>\n",
       "      <td>Drug Manufacturers—Specialty &amp; Generic</td>\n",
       "      <td>SHARONBIO</td>\n",
       "      <td>1.028999</td>\n",
       "      <td>3.817836e+07</td>\n",
       "    </tr>\n",
       "    <tr>\n",
       "      <th>1897</th>\n",
       "      <td>Talwalkars Healthclubs Limited</td>\n",
       "      <td>None</td>\n",
       "      <td>Consumer Cyclical</td>\n",
       "      <td>Leisure</td>\n",
       "      <td>TALWGYM</td>\n",
       "      <td>0.135747</td>\n",
       "      <td>3.255514e+07</td>\n",
       "    </tr>\n",
       "  </tbody>\n",
       "</table>\n",
       "<p>1238 rows × 7 columns</p>\n",
       "</div>\n",
       "      <button class=\"colab-df-convert\" onclick=\"convertToInteractive('df-fed2320d-7787-4c9f-8d6e-533e5f56548e')\"\n",
       "              title=\"Convert this dataframe to an interactive table.\"\n",
       "              style=\"display:none;\">\n",
       "        \n",
       "  <svg xmlns=\"http://www.w3.org/2000/svg\" height=\"24px\"viewBox=\"0 0 24 24\"\n",
       "       width=\"24px\">\n",
       "    <path d=\"M0 0h24v24H0V0z\" fill=\"none\"/>\n",
       "    <path d=\"M18.56 5.44l.94 2.06.94-2.06 2.06-.94-2.06-.94-.94-2.06-.94 2.06-2.06.94zm-11 1L8.5 8.5l.94-2.06 2.06-.94-2.06-.94L8.5 2.5l-.94 2.06-2.06.94zm10 10l.94 2.06.94-2.06 2.06-.94-2.06-.94-.94-2.06-.94 2.06-2.06.94z\"/><path d=\"M17.41 7.96l-1.37-1.37c-.4-.4-.92-.59-1.43-.59-.52 0-1.04.2-1.43.59L10.3 9.45l-7.72 7.72c-.78.78-.78 2.05 0 2.83L4 21.41c.39.39.9.59 1.41.59.51 0 1.02-.2 1.41-.59l7.78-7.78 2.81-2.81c.8-.78.8-2.07 0-2.86zM5.41 20L4 18.59l7.72-7.72 1.47 1.35L5.41 20z\"/>\n",
       "  </svg>\n",
       "      </button>\n",
       "      \n",
       "  <style>\n",
       "    .colab-df-container {\n",
       "      display:flex;\n",
       "      flex-wrap:wrap;\n",
       "      gap: 12px;\n",
       "    }\n",
       "\n",
       "    .colab-df-convert {\n",
       "      background-color: #E8F0FE;\n",
       "      border: none;\n",
       "      border-radius: 50%;\n",
       "      cursor: pointer;\n",
       "      display: none;\n",
       "      fill: #1967D2;\n",
       "      height: 32px;\n",
       "      padding: 0 0 0 0;\n",
       "      width: 32px;\n",
       "    }\n",
       "\n",
       "    .colab-df-convert:hover {\n",
       "      background-color: #E2EBFA;\n",
       "      box-shadow: 0px 1px 2px rgba(60, 64, 67, 0.3), 0px 1px 3px 1px rgba(60, 64, 67, 0.15);\n",
       "      fill: #174EA6;\n",
       "    }\n",
       "\n",
       "    [theme=dark] .colab-df-convert {\n",
       "      background-color: #3B4455;\n",
       "      fill: #D2E3FC;\n",
       "    }\n",
       "\n",
       "    [theme=dark] .colab-df-convert:hover {\n",
       "      background-color: #434B5C;\n",
       "      box-shadow: 0px 1px 3px 1px rgba(0, 0, 0, 0.15);\n",
       "      filter: drop-shadow(0px 1px 2px rgba(0, 0, 0, 0.3));\n",
       "      fill: #FFFFFF;\n",
       "    }\n",
       "  </style>\n",
       "\n",
       "      <script>\n",
       "        const buttonEl =\n",
       "          document.querySelector('#df-fed2320d-7787-4c9f-8d6e-533e5f56548e button.colab-df-convert');\n",
       "        buttonEl.style.display =\n",
       "          google.colab.kernel.accessAllowed ? 'block' : 'none';\n",
       "\n",
       "        async function convertToInteractive(key) {\n",
       "          const element = document.querySelector('#df-fed2320d-7787-4c9f-8d6e-533e5f56548e');\n",
       "          const dataTable =\n",
       "            await google.colab.kernel.invokeFunction('convertToInteractive',\n",
       "                                                     [key], {});\n",
       "          if (!dataTable) return;\n",
       "\n",
       "          const docLinkHtml = 'Like what you see? Visit the ' +\n",
       "            '<a target=\"_blank\" href=https://colab.research.google.com/notebooks/data_table.ipynb>data table notebook</a>'\n",
       "            + ' to learn more about interactive tables.';\n",
       "          element.innerHTML = '';\n",
       "          dataTable['output_type'] = 'display_data';\n",
       "          await google.colab.output.renderOutput(dataTable, element);\n",
       "          const docLink = document.createElement('div');\n",
       "          docLink.innerHTML = docLinkHtml;\n",
       "          element.appendChild(docLink);\n",
       "        }\n",
       "      </script>\n",
       "    </div>\n",
       "  </div>\n",
       "  "
      ],
      "text/plain": [
       "                           Company Name Index_type  ...        P/E     MarketCap\n",
       "0           Reliance Industries Limited      Large  ...  27.617010  1.631686e+13\n",
       "1     Tata Consultancy Services Limited      Large  ...  37.613270  1.415626e+13\n",
       "2                     HDFC Bank Limited      Large  ...  23.326649  8.380209e+12\n",
       "3                       Infosys Limited      Large  ...  33.900620  7.280080e+12\n",
       "4            Hindustan Unilever Limited      Large  ...  61.147617  5.356948e+12\n",
       "...                                 ...        ...  ...        ...           ...\n",
       "1856                     Nakoda Limited       None  ...   0.021617  1.500000e+07\n",
       "1862         PBA Infrastructure Limited       None  ...   7.011893  1.925843e+08\n",
       "1872        Quintegra Solutions Limited       None  ...  35.576923  4.960553e+07\n",
       "1882        Sharon Bio-Medicine Limited       None  ...   1.028999  3.817836e+07\n",
       "1897     Talwalkars Healthclubs Limited       None  ...   0.135747  3.255514e+07\n",
       "\n",
       "[1238 rows x 7 columns]"
      ]
     },
     "execution_count": 8,
     "metadata": {},
     "output_type": "execute_result"
    }
   ],
   "source": [
    "data = data.loc[data['MarketCap'] != 0]\n",
    "data"
   ]
  },
  {
   "cell_type": "code",
   "execution_count": null,
   "metadata": {
    "colab": {
     "base_uri": "https://localhost:8080/",
     "height": 424
    },
    "executionInfo": {
     "elapsed": 450,
     "status": "ok",
     "timestamp": 1645093308765,
     "user": {
      "displayName": "201951103 NIKHIL RANA",
      "photoUrl": "https://lh3.googleusercontent.com/a/default-user=s64",
      "userId": "08751619034967911265"
     },
     "user_tz": -330
    },
    "id": "8_SmWi-wFgSY",
    "outputId": "a2b7f797-5e40-4339-ff09-d96b5dcf1595"
   },
   "outputs": [
    {
     "data": {
      "text/html": [
       "\n",
       "  <div id=\"df-42eba021-18d5-432b-b509-fb6fb9df2fe1\">\n",
       "    <div class=\"colab-df-container\">\n",
       "      <div>\n",
       "<style scoped>\n",
       "    .dataframe tbody tr th:only-of-type {\n",
       "        vertical-align: middle;\n",
       "    }\n",
       "\n",
       "    .dataframe tbody tr th {\n",
       "        vertical-align: top;\n",
       "    }\n",
       "\n",
       "    .dataframe thead th {\n",
       "        text-align: right;\n",
       "    }\n",
       "</style>\n",
       "<table border=\"1\" class=\"dataframe\">\n",
       "  <thead>\n",
       "    <tr style=\"text-align: right;\">\n",
       "      <th></th>\n",
       "      <th>Company Name</th>\n",
       "      <th>Index_type</th>\n",
       "      <th>Sector</th>\n",
       "      <th>Industry</th>\n",
       "      <th>Symbol</th>\n",
       "      <th>P/E</th>\n",
       "      <th>MarketCap</th>\n",
       "      <th>wt</th>\n",
       "    </tr>\n",
       "  </thead>\n",
       "  <tbody>\n",
       "    <tr>\n",
       "      <th>0</th>\n",
       "      <td>Reliance Industries Limited</td>\n",
       "      <td>Large</td>\n",
       "      <td>Energy</td>\n",
       "      <td>Oil &amp; Gas Refining &amp; Marketing</td>\n",
       "      <td>RELIANCE</td>\n",
       "      <td>27.617010</td>\n",
       "      <td>1.631686e+13</td>\n",
       "      <td>6.933172e-02</td>\n",
       "    </tr>\n",
       "    <tr>\n",
       "      <th>1</th>\n",
       "      <td>Tata Consultancy Services Limited</td>\n",
       "      <td>Large</td>\n",
       "      <td>Technology</td>\n",
       "      <td>Information Technology Services</td>\n",
       "      <td>TCS</td>\n",
       "      <td>37.613270</td>\n",
       "      <td>1.415626e+13</td>\n",
       "      <td>6.015116e-02</td>\n",
       "    </tr>\n",
       "    <tr>\n",
       "      <th>2</th>\n",
       "      <td>HDFC Bank Limited</td>\n",
       "      <td>Large</td>\n",
       "      <td>Financial Services</td>\n",
       "      <td>Banks—Regional</td>\n",
       "      <td>HDFCBANK</td>\n",
       "      <td>23.326649</td>\n",
       "      <td>8.380209e+12</td>\n",
       "      <td>3.560822e-02</td>\n",
       "    </tr>\n",
       "    <tr>\n",
       "      <th>3</th>\n",
       "      <td>Infosys Limited</td>\n",
       "      <td>Large</td>\n",
       "      <td>Technology</td>\n",
       "      <td>Information Technology Services</td>\n",
       "      <td>INFY</td>\n",
       "      <td>33.900620</td>\n",
       "      <td>7.280080e+12</td>\n",
       "      <td>3.093367e-02</td>\n",
       "    </tr>\n",
       "    <tr>\n",
       "      <th>4</th>\n",
       "      <td>Hindustan Unilever Limited</td>\n",
       "      <td>Large</td>\n",
       "      <td>Consumer Defensive</td>\n",
       "      <td>Household &amp; Personal Products</td>\n",
       "      <td>HINDUNILVR</td>\n",
       "      <td>61.147617</td>\n",
       "      <td>5.356948e+12</td>\n",
       "      <td>2.276212e-02</td>\n",
       "    </tr>\n",
       "    <tr>\n",
       "      <th>...</th>\n",
       "      <td>...</td>\n",
       "      <td>...</td>\n",
       "      <td>...</td>\n",
       "      <td>...</td>\n",
       "      <td>...</td>\n",
       "      <td>...</td>\n",
       "      <td>...</td>\n",
       "      <td>...</td>\n",
       "    </tr>\n",
       "    <tr>\n",
       "      <th>1856</th>\n",
       "      <td>Nakoda Limited</td>\n",
       "      <td>None</td>\n",
       "      <td>Consumer Cyclical</td>\n",
       "      <td>Textile Manufacturing</td>\n",
       "      <td>NAKODA</td>\n",
       "      <td>0.021617</td>\n",
       "      <td>1.500000e+07</td>\n",
       "      <td>6.373627e-08</td>\n",
       "    </tr>\n",
       "    <tr>\n",
       "      <th>1862</th>\n",
       "      <td>PBA Infrastructure Limited</td>\n",
       "      <td>None</td>\n",
       "      <td>Industrials</td>\n",
       "      <td>Engineering &amp; Construction</td>\n",
       "      <td>PBAINFRA</td>\n",
       "      <td>7.011893</td>\n",
       "      <td>1.925843e+08</td>\n",
       "      <td>8.183070e-07</td>\n",
       "    </tr>\n",
       "    <tr>\n",
       "      <th>1872</th>\n",
       "      <td>Quintegra Solutions Limited</td>\n",
       "      <td>None</td>\n",
       "      <td>Technology</td>\n",
       "      <td>Information Technology Services</td>\n",
       "      <td>QUINTEGRA</td>\n",
       "      <td>35.576923</td>\n",
       "      <td>4.960553e+07</td>\n",
       "      <td>2.107781e-07</td>\n",
       "    </tr>\n",
       "    <tr>\n",
       "      <th>1882</th>\n",
       "      <td>Sharon Bio-Medicine Limited</td>\n",
       "      <td>None</td>\n",
       "      <td>Healthcare</td>\n",
       "      <td>Drug Manufacturers—Specialty &amp; Generic</td>\n",
       "      <td>SHARONBIO</td>\n",
       "      <td>1.028999</td>\n",
       "      <td>3.817836e+07</td>\n",
       "      <td>1.622231e-07</td>\n",
       "    </tr>\n",
       "    <tr>\n",
       "      <th>1897</th>\n",
       "      <td>Talwalkars Healthclubs Limited</td>\n",
       "      <td>None</td>\n",
       "      <td>Consumer Cyclical</td>\n",
       "      <td>Leisure</td>\n",
       "      <td>TALWGYM</td>\n",
       "      <td>0.135747</td>\n",
       "      <td>3.255514e+07</td>\n",
       "      <td>1.383296e-07</td>\n",
       "    </tr>\n",
       "  </tbody>\n",
       "</table>\n",
       "<p>1238 rows × 8 columns</p>\n",
       "</div>\n",
       "      <button class=\"colab-df-convert\" onclick=\"convertToInteractive('df-42eba021-18d5-432b-b509-fb6fb9df2fe1')\"\n",
       "              title=\"Convert this dataframe to an interactive table.\"\n",
       "              style=\"display:none;\">\n",
       "        \n",
       "  <svg xmlns=\"http://www.w3.org/2000/svg\" height=\"24px\"viewBox=\"0 0 24 24\"\n",
       "       width=\"24px\">\n",
       "    <path d=\"M0 0h24v24H0V0z\" fill=\"none\"/>\n",
       "    <path d=\"M18.56 5.44l.94 2.06.94-2.06 2.06-.94-2.06-.94-.94-2.06-.94 2.06-2.06.94zm-11 1L8.5 8.5l.94-2.06 2.06-.94-2.06-.94L8.5 2.5l-.94 2.06-2.06.94zm10 10l.94 2.06.94-2.06 2.06-.94-2.06-.94-.94-2.06-.94 2.06-2.06.94z\"/><path d=\"M17.41 7.96l-1.37-1.37c-.4-.4-.92-.59-1.43-.59-.52 0-1.04.2-1.43.59L10.3 9.45l-7.72 7.72c-.78.78-.78 2.05 0 2.83L4 21.41c.39.39.9.59 1.41.59.51 0 1.02-.2 1.41-.59l7.78-7.78 2.81-2.81c.8-.78.8-2.07 0-2.86zM5.41 20L4 18.59l7.72-7.72 1.47 1.35L5.41 20z\"/>\n",
       "  </svg>\n",
       "      </button>\n",
       "      \n",
       "  <style>\n",
       "    .colab-df-container {\n",
       "      display:flex;\n",
       "      flex-wrap:wrap;\n",
       "      gap: 12px;\n",
       "    }\n",
       "\n",
       "    .colab-df-convert {\n",
       "      background-color: #E8F0FE;\n",
       "      border: none;\n",
       "      border-radius: 50%;\n",
       "      cursor: pointer;\n",
       "      display: none;\n",
       "      fill: #1967D2;\n",
       "      height: 32px;\n",
       "      padding: 0 0 0 0;\n",
       "      width: 32px;\n",
       "    }\n",
       "\n",
       "    .colab-df-convert:hover {\n",
       "      background-color: #E2EBFA;\n",
       "      box-shadow: 0px 1px 2px rgba(60, 64, 67, 0.3), 0px 1px 3px 1px rgba(60, 64, 67, 0.15);\n",
       "      fill: #174EA6;\n",
       "    }\n",
       "\n",
       "    [theme=dark] .colab-df-convert {\n",
       "      background-color: #3B4455;\n",
       "      fill: #D2E3FC;\n",
       "    }\n",
       "\n",
       "    [theme=dark] .colab-df-convert:hover {\n",
       "      background-color: #434B5C;\n",
       "      box-shadow: 0px 1px 3px 1px rgba(0, 0, 0, 0.15);\n",
       "      filter: drop-shadow(0px 1px 2px rgba(0, 0, 0, 0.3));\n",
       "      fill: #FFFFFF;\n",
       "    }\n",
       "  </style>\n",
       "\n",
       "      <script>\n",
       "        const buttonEl =\n",
       "          document.querySelector('#df-42eba021-18d5-432b-b509-fb6fb9df2fe1 button.colab-df-convert');\n",
       "        buttonEl.style.display =\n",
       "          google.colab.kernel.accessAllowed ? 'block' : 'none';\n",
       "\n",
       "        async function convertToInteractive(key) {\n",
       "          const element = document.querySelector('#df-42eba021-18d5-432b-b509-fb6fb9df2fe1');\n",
       "          const dataTable =\n",
       "            await google.colab.kernel.invokeFunction('convertToInteractive',\n",
       "                                                     [key], {});\n",
       "          if (!dataTable) return;\n",
       "\n",
       "          const docLinkHtml = 'Like what you see? Visit the ' +\n",
       "            '<a target=\"_blank\" href=https://colab.research.google.com/notebooks/data_table.ipynb>data table notebook</a>'\n",
       "            + ' to learn more about interactive tables.';\n",
       "          element.innerHTML = '';\n",
       "          dataTable['output_type'] = 'display_data';\n",
       "          await google.colab.output.renderOutput(dataTable, element);\n",
       "          const docLink = document.createElement('div');\n",
       "          docLink.innerHTML = docLinkHtml;\n",
       "          element.appendChild(docLink);\n",
       "        }\n",
       "      </script>\n",
       "    </div>\n",
       "  </div>\n",
       "  "
      ],
      "text/plain": [
       "                           Company Name Index_type  ...     MarketCap            wt\n",
       "0           Reliance Industries Limited      Large  ...  1.631686e+13  6.933172e-02\n",
       "1     Tata Consultancy Services Limited      Large  ...  1.415626e+13  6.015116e-02\n",
       "2                     HDFC Bank Limited      Large  ...  8.380209e+12  3.560822e-02\n",
       "3                       Infosys Limited      Large  ...  7.280080e+12  3.093367e-02\n",
       "4            Hindustan Unilever Limited      Large  ...  5.356948e+12  2.276212e-02\n",
       "...                                 ...        ...  ...           ...           ...\n",
       "1856                     Nakoda Limited       None  ...  1.500000e+07  6.373627e-08\n",
       "1862         PBA Infrastructure Limited       None  ...  1.925843e+08  8.183070e-07\n",
       "1872        Quintegra Solutions Limited       None  ...  4.960553e+07  2.107781e-07\n",
       "1882        Sharon Bio-Medicine Limited       None  ...  3.817836e+07  1.622231e-07\n",
       "1897     Talwalkars Healthclubs Limited       None  ...  3.255514e+07  1.383296e-07\n",
       "\n",
       "[1238 rows x 8 columns]"
      ]
     },
     "execution_count": 83,
     "metadata": {},
     "output_type": "execute_result"
    }
   ],
   "source": [
    "data[\"wt\"]=data[\"MarketCap\"]/data[\"MarketCap\"].sum()\n",
    "data\n",
    "\\"
   ]
  },
  {
   "cell_type": "code",
   "execution_count": null,
   "metadata": {
    "colab": {
     "base_uri": "https://localhost:8080/"
    },
    "executionInfo": {
     "elapsed": 6,
     "status": "ok",
     "timestamp": 1645093311391,
     "user": {
      "displayName": "201951103 NIKHIL RANA",
      "photoUrl": "https://lh3.googleusercontent.com/a/default-user=s64",
      "userId": "08751619034967911265"
     },
     "user_tz": -330
    },
    "id": "7nAy9TPmFmTV",
    "outputId": "4a5a4b13-35b5-4dc8-d0f4-a13306996fd6"
   },
   "outputs": [
    {
     "data": {
      "text/plain": [
       "74.23566337509136"
      ]
     },
     "execution_count": 84,
     "metadata": {},
     "output_type": "execute_result"
    }
   ],
   "source": [
    "tmp=(data[\"P/E\"]*data[\"wt\"])/data[\"wt\"].sum()\n",
    "weighted_mean=tmp.sum()\n",
    "weighted_mean"
   ]
  },
  {
   "cell_type": "code",
   "execution_count": null,
   "metadata": {
    "colab": {
     "base_uri": "https://localhost:8080/"
    },
    "executionInfo": {
     "elapsed": 690,
     "status": "ok",
     "timestamp": 1645093319708,
     "user": {
      "displayName": "201951103 NIKHIL RANA",
      "photoUrl": "https://lh3.googleusercontent.com/a/default-user=s64",
      "userId": "08751619034967911265"
     },
     "user_tz": -330
    },
    "id": "4p6f3aFEJQeJ",
    "outputId": "875b35f0-d3b3-4f87-a814-4669ae78d000"
   },
   "outputs": [
    {
     "name": "stdout",
     "output_type": "stream",
     "text": [
      "Company Name    UltraTech Cement Limited\n",
      "Index_type                         Large\n",
      "Sector                   Basic Materials\n",
      "Industry              Building Materials\n",
      "Symbol                        ULTRACEMCO\n",
      "P/E                            32.069355\n",
      "MarketCap                2082795683840.0\n",
      "wt                               0.00885\n",
      "Name: 18, dtype: object\n"
     ]
    },
    {
     "data": {
      "text/plain": [
       "32.069355"
      ]
     },
     "execution_count": 86,
     "metadata": {},
     "output_type": "execute_result"
    }
   ],
   "source": [
    "sort_data=data.sort_values(by=['P/E'])\n",
    "#print(sort_data)\n",
    "weighted_median=0\n",
    "# step-2\n",
    "wgtsum=0\n",
    "for idx, w in sort_data.iterrows():\n",
    "    wgtsum+=w[\"wt\"]\n",
    "    if wgtsum>=0.5:\n",
    "        print(w)\n",
    "        weighted_median=w[\"P/E\"]\n",
    "        break\n",
    "weighted_median"
   ]
  },
  {
   "cell_type": "code",
   "execution_count": 9,
   "metadata": {
    "colab": {
     "base_uri": "https://localhost:8080/"
    },
    "executionInfo": {
     "elapsed": 548,
     "status": "ok",
     "timestamp": 1645807183236,
     "user": {
      "displayName": "201951103 NIKHIL RANA",
      "photoUrl": "https://lh3.googleusercontent.com/a/default-user=s64",
      "userId": "08751619034967911265"
     },
     "user_tz": -330
    },
    "id": "V007n1rnv9yi",
    "outputId": "c1134633-e072-4273-d41d-dc2fea858840"
   },
   "outputs": [
    {
     "data": {
      "text/plain": [
       "25.92083553356854"
      ]
     },
     "execution_count": 9,
     "metadata": {},
     "output_type": "execute_result"
    }
   ],
   "source": [
    "#  Trimmed Mean\n",
    "sort_data=data.sort_values(by=['P/E'])\n",
    "#print(sort_data)\n",
    "\n",
    "trimed_percentage=0.1\n",
    "trimnum=math.floor(len(sort_data)*trimed_percentage)\n",
    "trimmean=sort_data[\"P/E\"].iloc[trimnum:len(sort_data)-trimnum].mean()\n",
    "trimmean"
   ]
  },
  {
   "cell_type": "code",
   "execution_count": 10,
   "metadata": {
    "colab": {
     "base_uri": "https://localhost:8080/"
    },
    "executionInfo": {
     "elapsed": 6,
     "status": "ok",
     "timestamp": 1645807214791,
     "user": {
      "displayName": "201951103 NIKHIL RANA",
      "photoUrl": "https://lh3.googleusercontent.com/a/default-user=s64",
      "userId": "08751619034967911265"
     },
     "user_tz": -330
    },
    "id": "xijt_qOlwKy3",
    "outputId": "976b89ae-56ad-4d58-f9b8-a7882012f86a"
   },
   "outputs": [
    {
     "data": {
      "text/plain": [
       "0      -23.342114\n",
       "1      -13.345854\n",
       "2      -27.632475\n",
       "3      -17.058504\n",
       "4       10.188493\n",
       "          ...    \n",
       "1856   -50.937507\n",
       "1862   -43.947230\n",
       "1872   -15.382201\n",
       "1882   -49.930125\n",
       "1897   -50.823377\n",
       "Name: P/E, Length: 1238, dtype: float64"
      ]
     },
     "execution_count": 10,
     "metadata": {},
     "output_type": "execute_result"
    }
   ],
   "source": [
    "data[\"P/E\"]-data[\"P/E\"].mean()"
   ]
  },
  {
   "cell_type": "code",
   "execution_count": 12,
   "metadata": {
    "colab": {
     "base_uri": "https://localhost:8080/"
    },
    "executionInfo": {
     "elapsed": 5,
     "status": "ok",
     "timestamp": 1645807233548,
     "user": {
      "displayName": "201951103 NIKHIL RANA",
      "photoUrl": "https://lh3.googleusercontent.com/a/default-user=s64",
      "userId": "08751619034967911265"
     },
     "user_tz": -330
    },
    "id": "VWEBqvMjwS2h",
    "outputId": "55c7f51e-4055-4f0e-9463-4817d5b069dc"
   },
   "outputs": [
    {
     "data": {
      "text/plain": [
       "178.88634724418523"
      ]
     },
     "execution_count": 12,
     "metadata": {},
     "output_type": "execute_result"
    }
   ],
   "source": [
    "# Standard deviation\n",
    "data[\"P/E\"].std()"
   ]
  },
  {
   "cell_type": "code",
   "execution_count": 13,
   "metadata": {
    "colab": {
     "base_uri": "https://localhost:8080/"
    },
    "executionInfo": {
     "elapsed": 421,
     "status": "ok",
     "timestamp": 1645807246995,
     "user": {
      "displayName": "201951103 NIKHIL RANA",
      "photoUrl": "https://lh3.googleusercontent.com/a/default-user=s64",
      "userId": "08751619034967911265"
     },
     "user_tz": -330
    },
    "id": "WGNwn4DGwWwI",
    "outputId": "ea47d5d3-7b19-41b1-a227-3a9363e2ff2c"
   },
   "outputs": [
    {
     "data": {
      "text/plain": [
       "32000.325230367216"
      ]
     },
     "execution_count": 13,
     "metadata": {},
     "output_type": "execute_result"
    }
   ],
   "source": [
    "# Variance\n",
    "data[\"P/E\"].var()"
   ]
  },
  {
   "cell_type": "code",
   "execution_count": 14,
   "metadata": {
    "colab": {
     "base_uri": "https://localhost:8080/"
    },
    "executionInfo": {
     "elapsed": 388,
     "status": "ok",
     "timestamp": 1645807265959,
     "user": {
      "displayName": "201951103 NIKHIL RANA",
      "photoUrl": "https://lh3.googleusercontent.com/a/default-user=s64",
      "userId": "08751619034967911265"
     },
     "user_tz": -330
    },
    "id": "ZGhF8ElpwaGY",
    "outputId": "7e0b1bb0-170a-4ab8-ef43-e29839868a06"
   },
   "outputs": [
    {
     "data": {
      "text/plain": [
       "51.35510026508983"
      ]
     },
     "execution_count": 14,
     "metadata": {},
     "output_type": "execute_result"
    }
   ],
   "source": [
    "# Mean absolute deviation\n",
    "((data[\"P/E\"]-data[\"P/E\"].mean()).abs()).mean()"
   ]
  },
  {
   "cell_type": "code",
   "execution_count": 15,
   "metadata": {
    "colab": {
     "base_uri": "https://localhost:8080/"
    },
    "executionInfo": {
     "elapsed": 402,
     "status": "ok",
     "timestamp": 1645807284883,
     "user": {
      "displayName": "201951103 NIKHIL RANA",
      "photoUrl": "https://lh3.googleusercontent.com/a/default-user=s64",
      "userId": "08751619034967911265"
     },
     "user_tz": -330
    },
    "id": "GQDo-VAqwe_q",
    "outputId": "96dc0849-75ec-44c4-9399-82beb3af82b2"
   },
   "outputs": [
    {
     "data": {
      "text/plain": [
       "11.5634205"
      ]
     },
     "execution_count": 15,
     "metadata": {},
     "output_type": "execute_result"
    }
   ],
   "source": [
    "# Median absolute deviation from the median\n",
    "data1=data[\"P/E\"]-data[\"P/E\"].median()\n",
    "data2=data1.abs()\n",
    "data3=data2.sort_values()\n",
    "data3.median()"
   ]
  },
  {
   "cell_type": "code",
   "execution_count": 16,
   "metadata": {
    "colab": {
     "base_uri": "https://localhost:8080/"
    },
    "executionInfo": {
     "elapsed": 9,
     "status": "ok",
     "timestamp": 1645807300091,
     "user": {
      "displayName": "201951103 NIKHIL RANA",
      "photoUrl": "https://lh3.googleusercontent.com/a/default-user=s64",
      "userId": "08751619034967911265"
     },
     "user_tz": -330
    },
    "id": "3p7OVGWjwjlb",
    "outputId": "80a7b252-76cc-4c6f-a936-c6f08a07861f"
   },
   "outputs": [
    {
     "name": "stdout",
     "output_type": "stream",
     "text": [
      "3512.5\n",
      "0.019769566\n"
     ]
    },
    {
     "data": {
      "text/plain": [
       "3512.480230434"
      ]
     },
     "execution_count": 16,
     "metadata": {},
     "output_type": "execute_result"
    }
   ],
   "source": [
    "# Range (Order statistics)\n",
    "data_sort=data[\"P/E\"].sort_values()\n",
    "print(data_sort.iloc[-1])\n",
    "print(data_sort.iloc[0])\n",
    "Range=data_sort.iloc[-1]-data_sort.iloc[0]\n",
    "Range"
   ]
  },
  {
   "cell_type": "code",
   "execution_count": 17,
   "metadata": {
    "colab": {
     "base_uri": "https://localhost:8080/"
    },
    "executionInfo": {
     "elapsed": 797,
     "status": "ok",
     "timestamp": 1645807321846,
     "user": {
      "displayName": "201951103 NIKHIL RANA",
      "photoUrl": "https://lh3.googleusercontent.com/a/default-user=s64",
      "userId": "08751619034967911265"
     },
     "user_tz": -330
    },
    "id": "4cte6s-SwnRL",
    "outputId": "8d6947e4-cfbe-461c-eb97-51fa0287a634"
   },
   "outputs": [
    {
     "name": "stdout",
     "output_type": "stream",
     "text": [
      "20.721981\n",
      "20.721981\n",
      "620\n"
     ]
    },
    {
     "data": {
      "text/plain": [
       "309.5"
      ]
     },
     "execution_count": 17,
     "metadata": {},
     "output_type": "execute_result"
    }
   ],
   "source": [
    "# Percentile (Order Statistics)\n",
    "print(data[\"P/E\"].median()) #  Median is 50th percentile\n",
    "th=data[\"P/E\"].quantile(0.5)\n",
    "print(th)\n",
    "print((data[\"P/E\"]<th).sum()+1)\n",
    "len(data)*0.25"
   ]
  },
  {
   "cell_type": "code",
   "execution_count": 18,
   "metadata": {
    "colab": {
     "base_uri": "https://localhost:8080/"
    },
    "executionInfo": {
     "elapsed": 4,
     "status": "ok",
     "timestamp": 1645807346537,
     "user": {
      "displayName": "201951103 NIKHIL RANA",
      "photoUrl": "https://lh3.googleusercontent.com/a/default-user=s64",
      "userId": "08751619034967911265"
     },
     "user_tz": -330
    },
    "id": "QzMexhQrwsp4",
    "outputId": "4771a816-c3d4-4cde-ab4e-9d950876d9df"
   },
   "outputs": [
    {
     "data": {
      "text/plain": [
       "28.507582499999998"
      ]
     },
     "execution_count": 18,
     "metadata": {},
     "output_type": "execute_result"
    }
   ],
   "source": [
    "# Inter Quantiles Range (Order Statistics)\n",
    "IQR=data[\"P/E\"].quantile(0.75)-data[\"P/E\"].quantile(0.25)\n",
    "IQR"
   ]
  },
  {
   "cell_type": "code",
   "execution_count": 19,
   "metadata": {
    "colab": {
     "base_uri": "https://localhost:8080/"
    },
    "executionInfo": {
     "elapsed": 10588,
     "status": "ok",
     "timestamp": 1645807371979,
     "user": {
      "displayName": "201951103 NIKHIL RANA",
      "photoUrl": "https://lh3.googleusercontent.com/a/default-user=s64",
      "userId": "08751619034967911265"
     },
     "user_tz": -330
    },
    "id": "wHHOsXKswyVg",
    "outputId": "ad3fa2b5-7ef0-4cc1-b64d-3ebb65545ab6"
   },
   "outputs": [
    {
     "name": "stdout",
     "output_type": "stream",
     "text": [
      "309.5\n",
      "11.500000002098902\n"
     ]
    }
   ],
   "source": [
    "data_sort=data[\"P/E\"].sort_values()\n",
    "idx=len(data_sort)*0.25\n",
    "print(idx)\n",
    "#idx=math.floor(idx)\n",
    "th=data_sort.iloc[-1]\n",
    "sm=idx+1\n",
    "while sm>idx:\n",
    "    sm=(data_sort<=th).sum()\n",
    "    th=th-0.1\n",
    "th=th+0.1\n",
    "print(th)"
   ]
  },
  {
   "cell_type": "code",
   "execution_count": 20,
   "metadata": {
    "colab": {
     "base_uri": "https://localhost:8080/"
    },
    "executionInfo": {
     "elapsed": 412,
     "status": "ok",
     "timestamp": 1645807381145,
     "user": {
      "displayName": "201951103 NIKHIL RANA",
      "photoUrl": "https://lh3.googleusercontent.com/a/default-user=s64",
      "userId": "08751619034967911265"
     },
     "user_tz": -330
    },
    "id": "7w1ZD3YJw50b",
    "outputId": "1b8d0f96-91b7-4ee0-a944-e633f3f5c953"
   },
   "outputs": [
    {
     "data": {
      "text/plain": [
       "309"
      ]
     },
     "execution_count": 20,
     "metadata": {},
     "output_type": "execute_result"
    }
   ],
   "source": [
    "(data_sort<=th).sum()+1"
   ]
  }
 ],
 "metadata": {
  "colab": {
   "authorship_tag": "ABX9TyN8IZDNBgYlI13c2B+VhyoN",
   "mount_file_id": "1R32B4pLKsIwmvKRZc8N5nJvniOxcdkMk",
   "name": "Assignment6_CS_201951103.ipynb",
   "provenance": []
  },
  "kernelspec": {
   "display_name": "Python 3",
   "name": "python3"
  },
  "language_info": {
   "name": "python"
  }
 },
 "nbformat": 4,
 "nbformat_minor": 0
}
